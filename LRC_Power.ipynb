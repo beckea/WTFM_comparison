{
 "cells": [
  {
   "cell_type": "code",
   "execution_count": 1,
   "metadata": {},
   "outputs": [
    {
     "name": "stdout",
     "output_type": "stream",
     "text": [
      "3.11.5 | packaged by Anaconda, Inc. | (main, Sep 11 2023, 13:26:23) [MSC v.1916 64 bit (AMD64)]\n",
      "numpy version: 1.24.3\n",
      "[RE1] File 0001 | y = 1.41187e+00 * (x - -18.37) ^ -0.66434 | Error = -10.51%\n",
      "[RE1] Hydrograph 0002: Failed fit with maxfev=5000, retrying...\n",
      "[RE1] Hydrograph 0002: Failed fit with maxfev=50000, retrying...\n"
     ]
    },
    {
     "name": "stderr",
     "output_type": "stream",
     "text": [
      "C:\\Program Files\\Anaconda3\\Lib\\site-packages\\scipy\\optimize\\_lsq\\common.py:115: RuntimeWarning: divide by zero encountered in divide\n",
      "  phi_prime = -np.sum(suf ** 2 / denom**3) / p_norm\n"
     ]
    },
    {
     "name": "stdout",
     "output_type": "stream",
     "text": [
      "[RE1] File 0002 | y = 2.34481e+52 * (x - -11318.13) ^ -12.86273 | Error = -4.14%\n",
      "[RE1] Hydrograph 0003: Failed fit with maxfev=5000, retrying...\n"
     ]
    },
    {
     "name": "stderr",
     "output_type": "stream",
     "text": [
      "C:\\Program Files\\Anaconda3\\Lib\\site-packages\\scipy\\optimize\\_lsq\\common.py:115: RuntimeWarning: divide by zero encountered in divide\n",
      "  phi_prime = -np.sum(suf ** 2 / denom**3) / p_norm\n"
     ]
    },
    {
     "name": "stdout",
     "output_type": "stream",
     "text": [
      "[RE1] File 0003 | y = 1.96257e+54 * (x - -1220.24) ^ -17.60769 | Error = -9.03%\n",
      "[RE1] File 0004 | y = 1.93444e+00 * (x - 23.79) ^ -0.40904 | Error = -66.17%\n",
      "[RE1] File 0005 | y = 5.43206e+00 * (x - 5.88) ^ -0.55842 | Error = -23.89%\n",
      "[RE1] Hydrograph 0006: Failed fit with maxfev=5000, retrying...\n"
     ]
    },
    {
     "name": "stderr",
     "output_type": "stream",
     "text": [
      "C:\\Program Files\\Anaconda3\\Lib\\site-packages\\scipy\\optimize\\_lsq\\common.py:115: RuntimeWarning: divide by zero encountered in divide\n",
      "  phi_prime = -np.sum(suf ** 2 / denom**3) / p_norm\n"
     ]
    },
    {
     "name": "stdout",
     "output_type": "stream",
     "text": [
      "[RE1] File 0006 | y = 1.15036e+55 * (x - -1837.15) ^ -16.50258 | Error = -6.42%\n",
      "[RE1] Hydrograph 0007: Failed fit with maxfev=5000, retrying...\n",
      "[RE1] File 0007 | y = 2.94717e+07 * (x - -21600.20) ^ -1.62514 | Error = -1.25%\n",
      "[RE1] Hydrograph 0008: Failed fit with maxfev=5000, retrying...\n"
     ]
    },
    {
     "name": "stderr",
     "output_type": "stream",
     "text": [
      "C:\\Program Files\\Anaconda3\\Lib\\site-packages\\scipy\\optimize\\_lsq\\common.py:115: RuntimeWarning: divide by zero encountered in divide\n",
      "  phi_prime = -np.sum(suf ** 2 / denom**3) / p_norm\n"
     ]
    },
    {
     "name": "stdout",
     "output_type": "stream",
     "text": [
      "[RE1] File 0008 | y = 4.93184e+52 * (x - -634.34) ^ -18.91531 | Error = -27.01%\n",
      "[RE1] Hydrograph 0009: Failed fit with maxfev=5000, retrying...\n",
      "[RE1] Hydrograph 0009: Failed fit with maxfev=50000, retrying...\n"
     ]
    },
    {
     "name": "stderr",
     "output_type": "stream",
     "text": [
      "C:\\Program Files\\Anaconda3\\Lib\\site-packages\\scipy\\optimize\\_lsq\\common.py:115: RuntimeWarning: divide by zero encountered in divide\n",
      "  phi_prime = -np.sum(suf ** 2 / denom**3) / p_norm\n"
     ]
    },
    {
     "name": "stdout",
     "output_type": "stream",
     "text": [
      "[RE1] File 0009 | y = 9.01340e+52 * (x - -7974.35) ^ -13.49021 | Error = -5.92%\n",
      "[RE1] Hydrograph 0010: Failed fit with maxfev=5000, retrying...\n",
      "[RE1] Hydrograph 0010: Failed fit with maxfev=50000, retrying...\n"
     ]
    },
    {
     "name": "stderr",
     "output_type": "stream",
     "text": [
      "C:\\Program Files\\Anaconda3\\Lib\\site-packages\\scipy\\optimize\\_lsq\\common.py:115: RuntimeWarning: divide by zero encountered in divide\n",
      "  phi_prime = -np.sum(suf ** 2 / denom**3) / p_norm\n"
     ]
    },
    {
     "name": "stdout",
     "output_type": "stream",
     "text": [
      "[RE1] File 0010 | y = 2.49261e+53 * (x - -6971.34) ^ -13.85310 | Error = -6.47%\n",
      "Saved errors for Event 1 to: C:\\Users\\beck0213\\workspace\\WTF\\OutputFiles\\GITHUB_CHECK\\LRC_Power\\RE1_Power_Rerror.csv\n",
      "[RE2] File 0001 | y = 9.76683e-01 * (x - 76.25) ^ -0.47541 | Error = -11.05%\n",
      "[RE2] Hydrograph 0002: Failed fit with maxfev=5000, retrying...\n",
      "[RE2] Hydrograph 0002: Failed fit with maxfev=50000, retrying...\n"
     ]
    },
    {
     "name": "stderr",
     "output_type": "stream",
     "text": [
      "C:\\Program Files\\Anaconda3\\Lib\\site-packages\\scipy\\optimize\\_lsq\\common.py:115: RuntimeWarning: divide by zero encountered in divide\n",
      "  phi_prime = -np.sum(suf ** 2 / denom**3) / p_norm\n"
     ]
    },
    {
     "name": "stdout",
     "output_type": "stream",
     "text": [
      "[RE2] File 0002 | y = 2.08572e+53 * (x - -6509.81) ^ -13.82534 | Error = -4.46%\n",
      "[RE2] Hydrograph 0003: Failed fit with maxfev=5000, retrying...\n"
     ]
    },
    {
     "name": "stderr",
     "output_type": "stream",
     "text": [
      "C:\\Program Files\\Anaconda3\\Lib\\site-packages\\scipy\\optimize\\_lsq\\common.py:115: RuntimeWarning: divide by zero encountered in divide\n",
      "  phi_prime = -np.sum(suf ** 2 / denom**3) / p_norm\n"
     ]
    },
    {
     "name": "stdout",
     "output_type": "stream",
     "text": [
      "[RE2] File 0003 | y = 3.89339e+54 * (x - -1082.48) ^ -17.76596 | Error = -8.59%\n",
      "[RE2] File 0004 | y = 2.33775e+00 * (x - 112.52) ^ -0.33304 | Error = -66.40%\n",
      "[RE2] File 0005 | y = 1.55042e+01 * (x - 77.90) ^ -0.66649 | Error = -25.67%\n",
      "[RE2] Hydrograph 0006: Failed fit with maxfev=5000, retrying...\n"
     ]
    },
    {
     "name": "stderr",
     "output_type": "stream",
     "text": [
      "C:\\Program Files\\Anaconda3\\Lib\\site-packages\\scipy\\optimize\\_lsq\\common.py:115: RuntimeWarning: divide by zero encountered in divide\n",
      "  phi_prime = -np.sum(suf ** 2 / denom**3) / p_norm\n"
     ]
    },
    {
     "name": "stdout",
     "output_type": "stream",
     "text": [
      "[RE2] File 0006 | y = 1.84009e+55 * (x - -1627.30) ^ -16.66298 | Error = -5.90%\n",
      "[RE2] Hydrograph 0007: Failed fit with maxfev=5000, retrying...\n",
      "[RE2] Hydrograph 0007: Failed fit with maxfev=50000, retrying...\n"
     ]
    },
    {
     "name": "stderr",
     "output_type": "stream",
     "text": [
      "C:\\Program Files\\Anaconda3\\Lib\\site-packages\\scipy\\optimize\\_lsq\\common.py:115: RuntimeWarning: divide by zero encountered in divide\n",
      "  phi_prime = -np.sum(suf ** 2 / denom**3) / p_norm\n"
     ]
    },
    {
     "name": "stdout",
     "output_type": "stream",
     "text": [
      "[RE2] File 0007 | y = 4.21219e+52 * (x - -22277.43) ^ -11.93092 | Error = -3.05%\n",
      "[RE2] Hydrograph 0008: Failed fit with maxfev=5000, retrying...\n"
     ]
    },
    {
     "name": "stderr",
     "output_type": "stream",
     "text": [
      "C:\\Program Files\\Anaconda3\\Lib\\site-packages\\scipy\\optimize\\_lsq\\common.py:115: RuntimeWarning: divide by zero encountered in divide\n",
      "  phi_prime = -np.sum(suf ** 2 / denom**3) / p_norm\n"
     ]
    },
    {
     "name": "stdout",
     "output_type": "stream",
     "text": [
      "[RE2] File 0008 | y = 1.15621e+54 * (x - -553.66) ^ -19.34641 | Error = -26.94%\n",
      "[RE2] Hydrograph 0009: Failed fit with maxfev=5000, retrying...\n"
     ]
    },
    {
     "name": "stderr",
     "output_type": "stream",
     "text": [
      "C:\\Program Files\\Anaconda3\\Lib\\site-packages\\scipy\\optimize\\_lsq\\common.py:115: RuntimeWarning: divide by zero encountered in divide\n",
      "  phi_prime = -np.sum(suf ** 2 / denom**3) / p_norm\n"
     ]
    },
    {
     "name": "stdout",
     "output_type": "stream",
     "text": [
      "[RE2] File 0009 | y = 1.18932e+54 * (x - -4707.77) ^ -14.52798 | Error = -5.77%\n",
      "[RE2] Hydrograph 0010: Failed fit with maxfev=5000, retrying...\n"
     ]
    },
    {
     "name": "stderr",
     "output_type": "stream",
     "text": [
      "C:\\Program Files\\Anaconda3\\Lib\\site-packages\\scipy\\optimize\\_lsq\\common.py:115: RuntimeWarning: divide by zero encountered in divide\n",
      "  phi_prime = -np.sum(suf ** 2 / denom**3) / p_norm\n"
     ]
    },
    {
     "name": "stdout",
     "output_type": "stream",
     "text": [
      "[RE2] File 0010 | y = 1.22893e+54 * (x - -4220.77) ^ -14.76458 | Error = -6.00%\n",
      "Saved errors for Event 2 to: C:\\Users\\beck0213\\workspace\\WTF\\OutputFiles\\GITHUB_CHECK\\LRC_Power\\RE2_Power_Rerror.csv\n",
      "[RE3] File 0001 | y = 8.13327e-01 * (x - 198.12) ^ -0.38300 | Error = -11.43%\n",
      "[RE3] Hydrograph 0002: Failed fit with maxfev=5000, retrying...\n"
     ]
    },
    {
     "name": "stderr",
     "output_type": "stream",
     "text": [
      "C:\\Program Files\\Anaconda3\\Lib\\site-packages\\scipy\\optimize\\_lsq\\common.py:115: RuntimeWarning: divide by zero encountered in divide\n",
      "  phi_prime = -np.sum(suf ** 2 / denom**3) / p_norm\n"
     ]
    },
    {
     "name": "stdout",
     "output_type": "stream",
     "text": [
      "[RE3] File 0002 | y = 2.03482e+54 * (x - -5631.88) ^ -14.25085 | Error = -4.15%\n",
      "[RE3] Hydrograph 0003: Failed fit with maxfev=5000, retrying...\n"
     ]
    },
    {
     "name": "stderr",
     "output_type": "stream",
     "text": [
      "C:\\Program Files\\Anaconda3\\Lib\\site-packages\\scipy\\optimize\\_lsq\\common.py:115: RuntimeWarning: divide by zero encountered in divide\n",
      "  phi_prime = -np.sum(suf ** 2 / denom**3) / p_norm\n"
     ]
    },
    {
     "name": "stdout",
     "output_type": "stream",
     "text": [
      "[RE3] File 0003 | y = 1.75852e+54 * (x - -940.38) ^ -17.70546 | Error = -8.27%\n",
      "[RE3] File 0004 | y = 2.61983e+00 * (x - 231.12) ^ -0.30594 | Error = -66.69%\n",
      "[RE3] File 0005 | y = 5.33438e+01 * (x - 174.02) ^ -0.87180 | Error = -26.14%\n",
      "[RE3] Hydrograph 0006: Failed fit with maxfev=5000, retrying...\n"
     ]
    },
    {
     "name": "stderr",
     "output_type": "stream",
     "text": [
      "C:\\Program Files\\Anaconda3\\Lib\\site-packages\\scipy\\optimize\\_lsq\\common.py:115: RuntimeWarning: divide by zero encountered in divide\n",
      "  phi_prime = -np.sum(suf ** 2 / denom**3) / p_norm\n"
     ]
    },
    {
     "name": "stdout",
     "output_type": "stream",
     "text": [
      "[RE3] File 0006 | y = 4.01103e+55 * (x - -1484.28) ^ -16.79447 | Error = -5.59%\n",
      "[RE3] Hydrograph 0007: Failed fit with maxfev=5000, retrying...\n",
      "[RE3] Hydrograph 0007: Failed fit with maxfev=50000, retrying...\n"
     ]
    },
    {
     "name": "stderr",
     "output_type": "stream",
     "text": [
      "C:\\Program Files\\Anaconda3\\Lib\\site-packages\\scipy\\optimize\\_lsq\\common.py:115: RuntimeWarning: divide by zero encountered in divide\n",
      "  phi_prime = -np.sum(suf ** 2 / denom**3) / p_norm\n"
     ]
    },
    {
     "name": "stdout",
     "output_type": "stream",
     "text": [
      "[RE3] File 0007 | y = 6.37918e+53 * (x - -14270.89) ^ -12.71743 | Error = -3.65%\n",
      "[RE3] Hydrograph 0008: Failed fit with maxfev=5000, retrying...\n"
     ]
    },
    {
     "name": "stderr",
     "output_type": "stream",
     "text": [
      "C:\\Program Files\\Anaconda3\\Lib\\site-packages\\scipy\\optimize\\_lsq\\common.py:115: RuntimeWarning: divide by zero encountered in divide\n",
      "  phi_prime = -np.sum(suf ** 2 / denom**3) / p_norm\n"
     ]
    },
    {
     "name": "stdout",
     "output_type": "stream",
     "text": [
      "[RE3] File 0008 | y = 1.49725e+54 * (x - -432.05) ^ -19.39927 | Error = -26.81%\n",
      "[RE3] Hydrograph 0009: Failed fit with maxfev=5000, retrying...\n"
     ]
    },
    {
     "name": "stderr",
     "output_type": "stream",
     "text": [
      "C:\\Program Files\\Anaconda3\\Lib\\site-packages\\scipy\\optimize\\_lsq\\common.py:115: RuntimeWarning: divide by zero encountered in divide\n",
      "  phi_prime = -np.sum(suf ** 2 / denom**3) / p_norm\n"
     ]
    },
    {
     "name": "stdout",
     "output_type": "stream",
     "text": [
      "[RE3] File 0009 | y = 1.68179e+54 * (x - -4060.82) ^ -14.74487 | Error = -5.18%\n",
      "[RE3] Hydrograph 0010: Failed fit with maxfev=5000, retrying...\n"
     ]
    },
    {
     "name": "stderr",
     "output_type": "stream",
     "text": [
      "C:\\Program Files\\Anaconda3\\Lib\\site-packages\\scipy\\optimize\\_lsq\\common.py:115: RuntimeWarning: divide by zero encountered in divide\n",
      "  phi_prime = -np.sum(suf ** 2 / denom**3) / p_norm\n"
     ]
    },
    {
     "name": "stdout",
     "output_type": "stream",
     "text": [
      "[RE3] File 0010 | y = 2.90946e+54 * (x - -3681.44) ^ -15.02684 | Error = -5.29%\n",
      "Saved errors for Event 3 to: C:\\Users\\beck0213\\workspace\\WTF\\OutputFiles\\GITHUB_CHECK\\LRC_Power\\RE3_Power_Rerror.csv\n"
     ]
    }
   ],
   "source": [
    "\"\"\"\n",
    "This script applies the power local recession curve watertable fluctuation method (e.g., Wendland\n",
    "et al. 2007) to estimate recharge from synthetic hydrographs. The method is implemented on a series of generated \n",
    "recharge events, and recharge estimates are compared to known values. The output is the relative error (%) of the \n",
    "recharge estimate, calculated as described in Becke et al. (2025).\n",
    "\"\"\"\n",
    "\n",
    "import numpy as np\n",
    "import pandas as pd\n",
    "import matplotlib.pyplot as plt\n",
    "from scipy.optimize import curve_fit\n",
    "from pathlib import Path\n",
    "import sys\n",
    "\n",
    "# Print environment info\n",
    "print(sys.version)\n",
    "print(f'numpy version: {np.__version__}')\n",
    "\n",
    "# Setup paths\n",
    "FOLDER_NAME = \"LRC_Power\"\n",
    "BASE_DIR = Path.home() / \"workspace\" / \"WTF\" / \"OutputFiles\" \n",
    "OUTPUT_DIR = BASE_DIR / FOLDER_NAME\n",
    "OUTPUT_DIR.mkdir(parents=True, exist_ok=True)\n",
    "\n",
    "INPUT_DIR = BASE_DIR / \"data\" \n",
    "\n",
    "# Define time series and event windows\n",
    "time = np.linspace(0, 400., 401)\n",
    "event_windows = {\n",
    "    1: {\"fit\": (30, 90), \"extend\": (30, 120), \"check\": 120},\n",
    "    2: {\"fit\": (120, 210), \"extend\": (120, 240), \"check\": 240},\n",
    "    3: {\"fit\": (240, 360), \"extend\": (240, 390), \"check\": 390},\n",
    "}\n",
    "\n",
    "def power_law(x, C1, C2, C3):\n",
    "    return C1 * np.power(x - C3, C2)\n",
    "\n",
    "def compute_LRC_errors(itr, event_id, time, fit_range, extend_range, check_index):\n",
    "    x_fit = time[fit_range[0]:fit_range[1] + 1]\n",
    "    x_extend = time[extend_range[0]:extend_range[1] + 1]\n",
    "\n",
    "    errors = []\n",
    "\n",
    "    for j in range(1, itr + 1):\n",
    "        try:\n",
    "            wl_file = INPUT_DIR / f\"hydro_{j:04d}.csv\"\n",
    "            var_file = INPUT_DIR / f\"var_{j:04d}.csv\"\n",
    "\n",
    "            wl = pd.read_csv(wl_file, header=None).to_numpy().flatten()\n",
    "            var = pd.read_csv(var_file, header=None).to_numpy()\n",
    "\n",
    "            y_fit = wl[fit_range[0]:fit_range[1] + 1]\n",
    "\n",
    "            # Fit power-law curve\n",
    "            maxfev = 5000\n",
    "            fitted = False\n",
    "            while maxfev <= 1_000_000:\n",
    "                try:\n",
    "                    params, _ = curve_fit(power_law, x_fit, y_fit, absolute_sigma=True,\n",
    "                                          maxfev=maxfev, method='trf')\n",
    "                    C1, C2, C3 = params\n",
    "                    fitted = True\n",
    "                    break\n",
    "                except (RuntimeError, ValueError):\n",
    "                    print(f\"[RE{event_id}] Hydrograph {j:04d}: Failed fit with maxfev={maxfev}, retrying...\")\n",
    "                    maxfev *= 10\n",
    "\n",
    "            if not fitted:\n",
    "                print(f\"[RE{event_id}] Hydrograph {j:04d}: No fit found. Skipping.\")\n",
    "                continue\n",
    "\n",
    "            y_proj = power_law(x_extend, C1, C2, C3)\n",
    "            delta_h = wl[check_index] - y_proj[-1]\n",
    "            delta_t = x_extend[-1] - x_fit[-1]\n",
    "\n",
    "            Sy = var[3][0]\n",
    "            true_rech = var[0][0]\n",
    "            rech_est = (delta_h / delta_t) * Sy\n",
    "            rech_error = ((rech_est - true_rech) / true_rech) * 100\n",
    "\n",
    "            errors.append(rech_error)\n",
    "\n",
    "            print(f\"[RE{event_id}] File {j:04d} | y = {C1:.5e} * (x - {C3:.2f}) ^ {C2:.5f} | Error = {rech_error:.2f}%\")\n",
    "\n",
    "        except Exception as e:\n",
    "            print(f\"[RE{event_id}] Hydrograph {j:04d} | Error: {e}\")\n",
    "            continue\n",
    "\n",
    "    return errors\n",
    "\n",
    "# --- Run for all events ---\n",
    "for event_id, params in event_windows.items():\n",
    "    errors = compute_LRC_errors(\n",
    "        itr=1000,\n",
    "        event_id=event_id,\n",
    "        time=time,\n",
    "        fit_range=params[\"fit\"],\n",
    "        extend_range=params[\"extend\"],\n",
    "        check_index=params[\"check\"]\n",
    "    )\n",
    "\n",
    "    output_file = OUTPUT_DIR / f\"RE{event_id}_Power_Rerror.csv\"\n",
    "    np.savetxt(output_file, errors, delimiter=',', header=f'power_Rerror_Event{event_id}', comments='')\n",
    "    print(f\"Saved errors for Event {event_id} to: {output_file}\")\n"
   ]
  },
  {
   "cell_type": "code",
   "execution_count": null,
   "metadata": {},
   "outputs": [],
   "source": []
  }
 ],
 "metadata": {
  "kernelspec": {
   "display_name": "Python 3 (ipykernel)",
   "language": "python",
   "name": "python3"
  },
  "language_info": {
   "codemirror_mode": {
    "name": "ipython",
    "version": 3
   },
   "file_extension": ".py",
   "mimetype": "text/x-python",
   "name": "python",
   "nbconvert_exporter": "python",
   "pygments_lexer": "ipython3",
   "version": "3.11.5"
  }
 },
 "nbformat": 4,
 "nbformat_minor": 2
}
